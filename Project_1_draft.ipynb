{
 "cells": [
  {
   "cell_type": "code",
   "execution_count": 1,
   "metadata": {
    "collapsed": true
   },
   "outputs": [],
   "source": [
    "##Step 1: Open the sat_scores.csv file. "
   ]
  },
  {
   "cell_type": "code",
   "execution_count": 2,
   "metadata": {
    "collapsed": false
   },
   "outputs": [],
   "source": [
    "import csv\n",
    "import urllib2\n",
    "\n",
    "url='https://raw.githubusercontent.com/ga-students/DSI-DC-1/master/week-01/project-01/assets/sat_scores.csv?token=AP5zfrE4hZS1nQ9COpBckDSsY2kfWbb2ks5XG_uBwA%3D%3D'\n",
    "response=urllib2.urlopen(url)\n",
    "reader = csv.reader(response)\n",
    "sat_scores=[]\n",
    "for row in reader:\n",
    "    sat_scores.append(row)"
   ]
  },
  {
   "cell_type": "code",
   "execution_count": 3,
   "metadata": {
    "collapsed": true
   },
   "outputs": [],
   "source": [
    "##Investigate the data, and answer the questions below."
   ]
  },
  {
   "cell_type": "code",
   "execution_count": 4,
   "metadata": {
    "collapsed": true
   },
   "outputs": [],
   "source": [
    "# 1. What does the data describe?\n",
    "# The data shows the average sat_scores of students who sat on the sat exam. \n",
    "# There are 4 columns with the state representing the all the states \n",
    "# in the US. Rate shows the percentage of the students who sat on the exam. \n",
    "# The scores are seperated into Verbal and Math "
   ]
  },
  {
   "cell_type": "code",
   "execution_count": 5,
   "metadata": {
    "collapsed": true
   },
   "outputs": [],
   "source": [
    "#Does the data look complete? Are there any obvious issues with the observations?\n",
    "#The data looks complete there are no null values. "
   ]
  },
  {
   "cell_type": "code",
   "execution_count": 10,
   "metadata": {
    "collapsed": false
   },
   "outputs": [
    {
     "name": "stdout",
     "output_type": "stream",
     "text": [
      "{'AK': ['51', '514', '510'],\n",
      " 'AL': ['9', '559', '554'],\n",
      " 'AR': ['6', '562', '550'],\n",
      " 'AZ': ['34', '523', '525'],\n",
      " 'CA': ['51', '498', '517'],\n",
      " 'CO': ['31', '539', '542'],\n",
      " 'CT': ['82', '509', '510'],\n",
      " 'DC': ['56', '482', '474'],\n",
      " 'DE': ['67', '501', '499'],\n",
      " 'FL': ['54', '498', '499'],\n",
      " 'GA': ['63', '491', '489'],\n",
      " 'HI': ['52', '485', '515'],\n",
      " 'IA': ['5', '593', '603'],\n",
      " 'ID': ['17', '543', '542'],\n",
      " 'IL': ['12', '576', '589'],\n",
      " 'IN': ['60', '499', '501'],\n",
      " 'KS': ['9', '577', '580'],\n",
      " 'KY': ['12', '550', '550'],\n",
      " 'LA': ['7', '564', '562'],\n",
      " 'MA': ['79', '511', '515'],\n",
      " 'MD': ['65', '508', '510'],\n",
      " 'ME': ['69', '506', '500'],\n",
      " 'MI': ['11', '561', '572'],\n",
      " 'MN': ['9', '580', '589'],\n",
      " 'MO': ['8', '577', '577'],\n",
      " 'MS': ['4', '566', '551'],\n",
      " 'MT': ['23', '539', '539'],\n",
      " 'NB': ['8', '562', '568'],\n",
      " 'NC': ['65', '493', '499'],\n",
      " 'ND': ['4', '592', '599'],\n",
      " 'NH': ['72', '520', '516'],\n",
      " 'NJ': ['81', '499', '513'],\n",
      " 'NM': ['13', '551', '542'],\n",
      " 'NV': ['33', '509', '515'],\n",
      " 'NY': ['77', '495', '505'],\n",
      " 'OH': ['26', '534', '439'],\n",
      " 'OK': ['8', '567', '561'],\n",
      " 'OR': ['55', '526', '526'],\n",
      " 'PA': ['71', '500', '499'],\n",
      " 'RI': ['71', '501', '499'],\n",
      " 'SC': ['57', '486', '488'],\n",
      " 'SD': ['4', '577', '582'],\n",
      " 'State': ['Rate', 'Verbal', 'Math'],\n",
      " 'TN': ['13', '562', '553'],\n",
      " 'TX': ['53', '493', '499'],\n",
      " 'UT': ['5', '575', '570'],\n",
      " 'VA': ['68', '510', '501'],\n",
      " 'VT': ['69', '511', '506'],\n",
      " 'WA': ['53', '527', '527'],\n",
      " 'WI': ['6', '584', '596'],\n",
      " 'WV': ['18', '527', '512'],\n",
      " 'WY': ['11', '547', '545']}\n"
     ]
    }
   ],
   "source": [
    "#3 create a data dictionary\n",
    "from pprint import pprint  \n",
    "data_dict={}\n",
    "\n",
    "for i in sat_scores:\n",
    "    data_dict[i[0]]= i[1:]\n",
    "    \n",
    "pprint(data_dict)\n",
    "    "
   ]
  },
  {
   "cell_type": "code",
   "execution_count": null,
   "metadata": {
    "collapsed": false
   },
   "outputs": [],
   "source": [
    "# Step2: Load the data\n",
    "#4. Load the data into a list of lists\n",
    "import csv\n",
    "import urllib2\n",
    "\n",
    "url='https://raw.githubusercontent.com/ga-students/DSI-DC-1/master/week-01/project-01/assets/sat_scores.csv?token=AP5zfrE4hZS1nQ9COpBckDSsY2kfWbb2ks5XG_uBwA%3D%3D'\n",
    "response=urllib2.urlopen(url)\n",
    "reader = csv.reader(response)\n",
    "\n",
    "sat_scores=[]\n",
    "for row in reader:\n",
    "    sat_scores.append(row)"
   ]
  },
  {
   "cell_type": "code",
   "execution_count": null,
   "metadata": {
    "collapsed": false
   },
   "outputs": [],
   "source": [
    "#5. Print the data\n",
    "print sat_scores"
   ]
  },
  {
   "cell_type": "code",
   "execution_count": null,
   "metadata": {
    "collapsed": false
   },
   "outputs": [],
   "source": [
    "#6.Extract a list of the labels from the data, and remove them from the data.\n",
    "sat_scores.remove(['State','Rate','Verbal','Math'])\n",
    "print sat_scores"
   ]
  },
  {
   "cell_type": "code",
   "execution_count": null,
   "metadata": {
    "collapsed": false
   },
   "outputs": [],
   "source": [
    "#7. Create a list of State names extracted from the data. (Hint: use the list of labels to index on the State column\n",
    "states=[]\n",
    "for a_list in sat_scores:\n",
    "    states.append(a_list[0])\n",
    "print states"
   ]
  },
  {
   "cell_type": "code",
   "execution_count": null,
   "metadata": {
    "collapsed": false
   },
   "outputs": [],
   "source": [
    "#8. Print the types of each column\n",
    "print type(sat_scores[0][0])\n",
    "print type(sat_scores[0][1])\n",
    "print type(sat_scores[0][2])\n",
    "print type(sat_scores[0][3])\n",
    "\n"
   ]
  },
  {
   "cell_type": "code",
   "execution_count": null,
   "metadata": {
    "collapsed": false
   },
   "outputs": [],
   "source": [
    "#9. Do any types need to be reassigned? If so, go ahead and do it.\n",
    "for alist in sat_scores:\n",
    "    alist[1]=float(alist[1])\n",
    "for alist in sat_scores:\n",
    "    alist[2]=int(alist[1])\n",
    "for alist in sat_scores:\n",
    "    alist[3]=int(alist[1])"
   ]
  },
  {
   "cell_type": "code",
   "execution_count": null,
   "metadata": {
    "collapsed": false
   },
   "outputs": [],
   "source": [
    "#10. Create a dictionary for each column mapping the State to its respective value for that column.\n",
    "keys=[states]\n",
    "values=[]\n",
    "for alist in sat_scores:\n",
    "    values.append(alist[1:])\n",
    "print values\n",
    "dictionary=dict(zip(keys,values))"
   ]
  },
  {
   "cell_type": "code",
   "execution_count": null,
   "metadata": {
    "collapsed": true
   },
   "outputs": [],
   "source": []
  }
 ],
 "metadata": {
  "kernelspec": {
   "display_name": "Python 2",
   "language": "python",
   "name": "python2"
  },
  "language_info": {
   "codemirror_mode": {
    "name": "ipython",
    "version": 2
   },
   "file_extension": ".py",
   "mimetype": "text/x-python",
   "name": "python",
   "nbconvert_exporter": "python",
   "pygments_lexer": "ipython2",
   "version": "2.7.11"
  }
 },
 "nbformat": 4,
 "nbformat_minor": 0
}
